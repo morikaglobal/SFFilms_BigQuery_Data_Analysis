{
 "cells": [
  {
   "cell_type": "markdown",
   "metadata": {},
   "source": [
    "# BigQuery Public Dataset - San Francisco Film Locations analysis¶\n",
    "\n",
    "## This notebook does the following\n",
    "\n",
    "Retrieves BigQuery Public Dataset - San Francisco Film Locations<br>\n",
    "Extract the data, make SQL queries to answer questions on the film locations dataset<br>\n",
    "Visualize the results of the dataset"
   ]
  },
  {
   "cell_type": "markdown",
   "metadata": {},
   "source": [
    "# Using Python and BigQuery (SQL) to analyze films shot in San Francisco\n",
    "\n",
    "Google BigQuery has many interesting public datasets including **SF Film Locations**<br>\n",
    "maintained by the San Francisco Film Commission<br>\n",
    "\n",
    "https://console.cloud.google.com/bigquery?filter=solution-type:dataset&q=name&id=a19b0f22-c4bc-4f19-87ec-5ae4e6bee957&subtask=details&subtaskValue=san-francisco-public-data%2Fsf-film-locations&project=twitteranalysis-255507&authuser=1&folder&subtaskIndex=7\n",
    "\n",
    "I have decided to use the public dataset for my BigQuery project to answer the questions I had with the dataset<br>\n",
    "with the steps below:\n",
    "\n",
    "1. Data Loading - getting the dataset from BigQuery Public Dataset\n",
    "2. Data Wrangling - for this case didnt do much as data was straightforward\n",
    "3. Data Manipulation - I answered the questions I had as per below\n",
    "4. Data Visualization - for each questions and results, using Python I present them visually"
   ]
  },
  {
   "cell_type": "code",
   "execution_count": 2,
   "metadata": {
    "scrolled": true
   },
   "outputs": [
    {
     "ename": "NameError",
     "evalue": "name 'KEY' is not defined",
     "output_type": "error",
     "traceback": [
      "\u001b[1;31m---------------------------------------------------------------------------\u001b[0m",
      "\u001b[1;31mNameError\u001b[0m                                 Traceback (most recent call last)",
      "\u001b[1;32m<ipython-input-2-3bdf4b65d7a0>\u001b[0m in \u001b[0;36m<module>\u001b[1;34m\u001b[0m\n\u001b[0;32m      3\u001b[0m \u001b[1;33m\u001b[0m\u001b[0m\n\u001b[0;32m      4\u001b[0m \u001b[1;32mfrom\u001b[0m \u001b[0mgoogle\u001b[0m\u001b[1;33m.\u001b[0m\u001b[0mcloud\u001b[0m\u001b[1;33m.\u001b[0m\u001b[0mbigquery\u001b[0m\u001b[1;33m.\u001b[0m\u001b[0mclient\u001b[0m \u001b[1;32mimport\u001b[0m \u001b[0mClient\u001b[0m\u001b[1;33m\u001b[0m\u001b[1;33m\u001b[0m\u001b[0m\n\u001b[1;32m----> 5\u001b[1;33m \u001b[0mclient\u001b[0m \u001b[1;33m=\u001b[0m \u001b[0mClient\u001b[0m\u001b[1;33m.\u001b[0m\u001b[0mfrom_service_account_json\u001b[0m\u001b[1;33m(\u001b[0m\u001b[0mKEY\u001b[0m\u001b[1;33m,\u001b[0m \u001b[0mproject\u001b[0m\u001b[1;33m=\u001b[0m\u001b[0mPROJECT_ID\u001b[0m\u001b[1;33m)\u001b[0m\u001b[1;33m\u001b[0m\u001b[1;33m\u001b[0m\u001b[0m\n\u001b[0m",
      "\u001b[1;31mNameError\u001b[0m: name 'KEY' is not defined"
     ]
    }
   ],
   "source": [
    "# The BigQuery clinet library magic command\n",
    "%load_ext google.cloud.bigquery "
   ]
  },
  {
   "cell_type": "markdown",
   "metadata": {},
   "source": [
    "## Loading my project dataset from Big Query\n",
    "\n",
    "I have exported the copy of the public dataset from BigQuery to my own project, titled \"sanfranciscofilmlocation\"<br>\n",
    "now I load the dataset into the notebook and save the data to a new variable **film_location**<br>"
   ]
  },
  {
   "cell_type": "code",
   "execution_count": 8,
   "metadata": {},
   "outputs": [
    {
     "name": "stderr",
     "output_type": "stream",
     "text": [
      "UsageError: Cell magic `%%bigquery` not found.\n"
     ]
    }
   ],
   "source": [
    "%%bigquery film_location\n",
    "\n",
    "SELECT *\n",
    "FROM `sanfranciscofilmlocation.film_locations.film_locations`"
   ]
  },
  {
   "cell_type": "markdown",
   "metadata": {},
   "source": [
    "now my dataset is ready in this notebook as a Pandas DataFrame to be used for analysis and visualization<br>\n",
    "I can see that the dataset has 1622 records(rows) with 11 columns "
   ]
  },
  {
   "cell_type": "code",
   "execution_count": 5,
   "metadata": {},
   "outputs": [
    {
     "ename": "NameError",
     "evalue": "name 'film_location' is not defined",
     "output_type": "error",
     "traceback": [
      "\u001b[1;31m---------------------------------------------------------------------------\u001b[0m",
      "\u001b[1;31mNameError\u001b[0m                                 Traceback (most recent call last)",
      "\u001b[1;32m<ipython-input-5-a1d2a46a87a3>\u001b[0m in \u001b[0;36m<module>\u001b[1;34m\u001b[0m\n\u001b[1;32m----> 1\u001b[1;33m \u001b[0mfilm_location\u001b[0m\u001b[1;33m.\u001b[0m\u001b[0mshape\u001b[0m\u001b[1;33m\u001b[0m\u001b[1;33m\u001b[0m\u001b[0m\n\u001b[0m",
      "\u001b[1;31mNameError\u001b[0m: name 'film_location' is not defined"
     ]
    }
   ],
   "source": [
    "film_location.shape"
   ]
  },
  {
   "cell_type": "markdown",
   "metadata": {},
   "source": [
    "If I make a query to display the 10 records from the dataset to check the dataset, it looks like this:"
   ]
  },
  {
   "cell_type": "code",
   "execution_count": 11,
   "metadata": {},
   "outputs": [
    {
     "data": {
      "text/html": [
       "<div>\n",
       "<style scoped>\n",
       "    .dataframe tbody tr th:only-of-type {\n",
       "        vertical-align: middle;\n",
       "    }\n",
       "\n",
       "    .dataframe tbody tr th {\n",
       "        vertical-align: top;\n",
       "    }\n",
       "\n",
       "    .dataframe thead th {\n",
       "        text-align: right;\n",
       "    }\n",
       "</style>\n",
       "<table border=\"1\" class=\"dataframe\">\n",
       "  <thead>\n",
       "    <tr style=\"text-align: right;\">\n",
       "      <th></th>\n",
       "      <th>title</th>\n",
       "      <th>release_year</th>\n",
       "      <th>locations</th>\n",
       "      <th>fun_facts</th>\n",
       "      <th>production_company</th>\n",
       "      <th>distributor</th>\n",
       "      <th>director</th>\n",
       "      <th>writer</th>\n",
       "      <th>actor_1</th>\n",
       "      <th>actor_2</th>\n",
       "      <th>actor_3</th>\n",
       "    </tr>\n",
       "  </thead>\n",
       "  <tbody>\n",
       "    <tr>\n",
       "      <th>0</th>\n",
       "      <td>A Jitney Elopement</td>\n",
       "      <td>1915</td>\n",
       "      <td>20th and Folsom Streets</td>\n",
       "      <td></td>\n",
       "      <td>The Essanay Film Manufacturing Company</td>\n",
       "      <td>General Film Company</td>\n",
       "      <td>Charles Chaplin</td>\n",
       "      <td>Charles Chaplin</td>\n",
       "      <td>Charles Chaplin</td>\n",
       "      <td>Edna Purviance</td>\n",
       "      <td></td>\n",
       "    </tr>\n",
       "    <tr>\n",
       "      <th>1</th>\n",
       "      <td>A Jitney Elopement</td>\n",
       "      <td>1915</td>\n",
       "      <td>Golden Gate Park</td>\n",
       "      <td>During San Francisco's Gold Rush era, the Park...</td>\n",
       "      <td>The Essanay Film Manufacturing Company</td>\n",
       "      <td>General Film Company</td>\n",
       "      <td>Charles Chaplin</td>\n",
       "      <td>Charles Chaplin</td>\n",
       "      <td>Charles Chaplin</td>\n",
       "      <td>Edna Purviance</td>\n",
       "      <td></td>\n",
       "    </tr>\n",
       "    <tr>\n",
       "      <th>2</th>\n",
       "      <td>Greed</td>\n",
       "      <td>1924</td>\n",
       "      <td>Hayes Street at Laguna</td>\n",
       "      <td></td>\n",
       "      <td>Metro-Goldwyn-Mayer (MGM)</td>\n",
       "      <td>Metro-Goldwyn-Mayer (MGM)</td>\n",
       "      <td>Eric von Stroheim</td>\n",
       "      <td>Eric von Stroheim</td>\n",
       "      <td>Zasu Pitts</td>\n",
       "      <td>Gibson Gowland</td>\n",
       "      <td>Jean Hersholt</td>\n",
       "    </tr>\n",
       "    <tr>\n",
       "      <th>3</th>\n",
       "      <td>Greed</td>\n",
       "      <td>1924</td>\n",
       "      <td>Bush and Sutter Streets</td>\n",
       "      <td></td>\n",
       "      <td>Metro-Goldwyn-Mayer (MGM)</td>\n",
       "      <td>Metro-Goldwyn-Mayer (MGM)</td>\n",
       "      <td>Eric von Stroheim</td>\n",
       "      <td>Eric von Stroheim</td>\n",
       "      <td>Zasu Pitts</td>\n",
       "      <td>Gibson Gowland</td>\n",
       "      <td>Jean Hersholt</td>\n",
       "    </tr>\n",
       "    <tr>\n",
       "      <th>4</th>\n",
       "      <td>Greed</td>\n",
       "      <td>1924</td>\n",
       "      <td>Cliff House (1090 Point Lobos Avenue)</td>\n",
       "      <td>In 1887, the Cliff House was severely damaged ...</td>\n",
       "      <td>Metro-Goldwyn-Mayer (MGM)</td>\n",
       "      <td>Metro-Goldwyn-Mayer (MGM)</td>\n",
       "      <td>Eric von Stroheim</td>\n",
       "      <td>Eric von Stroheim</td>\n",
       "      <td>Zasu Pitts</td>\n",
       "      <td>Gibson Gowland</td>\n",
       "      <td>Jean Hersholt</td>\n",
       "    </tr>\n",
       "    <tr>\n",
       "      <th>5</th>\n",
       "      <td>The Jazz Singer</td>\n",
       "      <td>1927</td>\n",
       "      <td>Coffee Dan's (O'Farrell Street at Powell)</td>\n",
       "      <td></td>\n",
       "      <td>Warner Bros. Pictures</td>\n",
       "      <td>Warner Bros. Pictures</td>\n",
       "      <td>Alan Crosland</td>\n",
       "      <td>Alfred A. Cohn</td>\n",
       "      <td>Al Jolson</td>\n",
       "      <td>May McAvoy</td>\n",
       "      <td>Warner Oland</td>\n",
       "    </tr>\n",
       "    <tr>\n",
       "      <th>6</th>\n",
       "      <td>Barbary Coast</td>\n",
       "      <td>1935</td>\n",
       "      <td></td>\n",
       "      <td></td>\n",
       "      <td>The Samuel Goldwyn Company</td>\n",
       "      <td>United Artists</td>\n",
       "      <td>Howard Hawks</td>\n",
       "      <td>Ben Hecht</td>\n",
       "      <td>Mariam Hopkins</td>\n",
       "      <td>Edward G. Robinson</td>\n",
       "      <td>Joel McCrea</td>\n",
       "    </tr>\n",
       "    <tr>\n",
       "      <th>7</th>\n",
       "      <td>San Francisco</td>\n",
       "      <td>1936</td>\n",
       "      <td>The Barbary Coast</td>\n",
       "      <td>The Barbary Coast was a red-light district tha...</td>\n",
       "      <td>Metro-Goldwyn Mayer</td>\n",
       "      <td>Metro-Goldwyn Mayer</td>\n",
       "      <td>W.S. Van Dyke</td>\n",
       "      <td>Anita Loos</td>\n",
       "      <td>Clark Gable</td>\n",
       "      <td>Jeanette MacDonald</td>\n",
       "      <td>Spencer Tracy</td>\n",
       "    </tr>\n",
       "    <tr>\n",
       "      <th>8</th>\n",
       "      <td>San Francisco</td>\n",
       "      <td>1936</td>\n",
       "      <td>City Hall</td>\n",
       "      <td>The dome of SF's City Hall is almost a foot ta...</td>\n",
       "      <td>Metro-Goldwyn Mayer</td>\n",
       "      <td>Metro-Goldwyn Mayer</td>\n",
       "      <td>W.S. Van Dyke</td>\n",
       "      <td>Anita Loos</td>\n",
       "      <td>Clark Gable</td>\n",
       "      <td>Jeanette MacDonald</td>\n",
       "      <td>Spencer Tracy</td>\n",
       "    </tr>\n",
       "    <tr>\n",
       "      <th>9</th>\n",
       "      <td>After the Thin Man</td>\n",
       "      <td>1936</td>\n",
       "      <td>Coit Tower</td>\n",
       "      <td>The Tower was funded by a gift bequeathed by L...</td>\n",
       "      <td>Metro-Goldwyn Mayer</td>\n",
       "      <td>Metro-Goldwyn Mayer</td>\n",
       "      <td>W.S. Van Dyke</td>\n",
       "      <td>Frances Goodrich</td>\n",
       "      <td>William Powell</td>\n",
       "      <td>Myrna Loy</td>\n",
       "      <td>James Stewart</td>\n",
       "    </tr>\n",
       "  </tbody>\n",
       "</table>\n",
       "</div>"
      ],
      "text/plain": [
       "                title  release_year  \\\n",
       "0  A Jitney Elopement          1915   \n",
       "1  A Jitney Elopement          1915   \n",
       "2               Greed          1924   \n",
       "3               Greed          1924   \n",
       "4               Greed          1924   \n",
       "5     The Jazz Singer          1927   \n",
       "6       Barbary Coast          1935   \n",
       "7       San Francisco          1936   \n",
       "8       San Francisco          1936   \n",
       "9  After the Thin Man          1936   \n",
       "\n",
       "                                   locations  \\\n",
       "0                    20th and Folsom Streets   \n",
       "1                           Golden Gate Park   \n",
       "2                     Hayes Street at Laguna   \n",
       "3                    Bush and Sutter Streets   \n",
       "4      Cliff House (1090 Point Lobos Avenue)   \n",
       "5  Coffee Dan's (O'Farrell Street at Powell)   \n",
       "6                                              \n",
       "7                          The Barbary Coast   \n",
       "8                                  City Hall   \n",
       "9                                 Coit Tower   \n",
       "\n",
       "                                           fun_facts  \\\n",
       "0                                                      \n",
       "1  During San Francisco's Gold Rush era, the Park...   \n",
       "2                                                      \n",
       "3                                                      \n",
       "4  In 1887, the Cliff House was severely damaged ...   \n",
       "5                                                      \n",
       "6                                                      \n",
       "7  The Barbary Coast was a red-light district tha...   \n",
       "8  The dome of SF's City Hall is almost a foot ta...   \n",
       "9  The Tower was funded by a gift bequeathed by L...   \n",
       "\n",
       "                       production_company                distributor  \\\n",
       "0  The Essanay Film Manufacturing Company       General Film Company   \n",
       "1  The Essanay Film Manufacturing Company       General Film Company   \n",
       "2               Metro-Goldwyn-Mayer (MGM)  Metro-Goldwyn-Mayer (MGM)   \n",
       "3               Metro-Goldwyn-Mayer (MGM)  Metro-Goldwyn-Mayer (MGM)   \n",
       "4               Metro-Goldwyn-Mayer (MGM)  Metro-Goldwyn-Mayer (MGM)   \n",
       "5                   Warner Bros. Pictures      Warner Bros. Pictures   \n",
       "6              The Samuel Goldwyn Company             United Artists   \n",
       "7                     Metro-Goldwyn Mayer        Metro-Goldwyn Mayer   \n",
       "8                     Metro-Goldwyn Mayer        Metro-Goldwyn Mayer   \n",
       "9                     Metro-Goldwyn Mayer        Metro-Goldwyn Mayer   \n",
       "\n",
       "            director             writer          actor_1             actor_2  \\\n",
       "0    Charles Chaplin    Charles Chaplin  Charles Chaplin      Edna Purviance   \n",
       "1    Charles Chaplin    Charles Chaplin  Charles Chaplin      Edna Purviance   \n",
       "2  Eric von Stroheim  Eric von Stroheim       Zasu Pitts      Gibson Gowland   \n",
       "3  Eric von Stroheim  Eric von Stroheim       Zasu Pitts      Gibson Gowland   \n",
       "4  Eric von Stroheim  Eric von Stroheim       Zasu Pitts      Gibson Gowland   \n",
       "5      Alan Crosland     Alfred A. Cohn        Al Jolson          May McAvoy   \n",
       "6       Howard Hawks          Ben Hecht   Mariam Hopkins  Edward G. Robinson   \n",
       "7      W.S. Van Dyke         Anita Loos      Clark Gable  Jeanette MacDonald   \n",
       "8      W.S. Van Dyke         Anita Loos      Clark Gable  Jeanette MacDonald   \n",
       "9      W.S. Van Dyke   Frances Goodrich   William Powell           Myrna Loy   \n",
       "\n",
       "         actor_3  \n",
       "0                 \n",
       "1                 \n",
       "2  Jean Hersholt  \n",
       "3  Jean Hersholt  \n",
       "4  Jean Hersholt  \n",
       "5   Warner Oland  \n",
       "6    Joel McCrea  \n",
       "7  Spencer Tracy  \n",
       "8  Spencer Tracy  \n",
       "9  James Stewart  "
      ]
     },
     "execution_count": 11,
     "metadata": {},
     "output_type": "execute_result"
    }
   ],
   "source": [
    "%%bigquery \n",
    "\n",
    "SELECT *\n",
    "FROM `sanfranciscofilmlocation.film_locations.film_locations`\n",
    "LIMIT 10"
   ]
  },
  {
   "cell_type": "markdown",
   "metadata": {},
   "source": [
    "To visualize the query results when I answer my questions for the dataset, <br>\n",
    "I activate and use the matplotlib built-in magic command below"
   ]
  },
  {
   "cell_type": "code",
   "execution_count": 13,
   "metadata": {},
   "outputs": [],
   "source": [
    "# built-in magic command\n",
    "%matplotlib inline"
   ]
  },
  {
   "cell_type": "markdown",
   "metadata": {},
   "source": [
    "# 1. How many films are there?\n",
    "\n",
    "the very first question I want to answer for the dataset is,<br>\n",
    "for how many films the dataset provide their film locations for<br>\n",
    "<br>\n",
    "I can see that the dataset has 1622 rows, however some films have multiple film locations in San Francisco recorded that it is not necessarily 1622 films and their respective film locations used<br>\n",
    "<br>\n",
    "I run the query below to answer my very first question for the dataset"
   ]
  },
  {
   "cell_type": "code",
   "execution_count": 14,
   "metadata": {},
   "outputs": [
    {
     "data": {
      "text/html": [
       "<div>\n",
       "<style scoped>\n",
       "    .dataframe tbody tr th:only-of-type {\n",
       "        vertical-align: middle;\n",
       "    }\n",
       "\n",
       "    .dataframe tbody tr th {\n",
       "        vertical-align: top;\n",
       "    }\n",
       "\n",
       "    .dataframe thead th {\n",
       "        text-align: right;\n",
       "    }\n",
       "</style>\n",
       "<table border=\"1\" class=\"dataframe\">\n",
       "  <thead>\n",
       "    <tr style=\"text-align: right;\">\n",
       "      <th></th>\n",
       "      <th>f0_</th>\n",
       "    </tr>\n",
       "  </thead>\n",
       "  <tbody>\n",
       "    <tr>\n",
       "      <th>0</th>\n",
       "      <td>306</td>\n",
       "    </tr>\n",
       "  </tbody>\n",
       "</table>\n",
       "</div>"
      ],
      "text/plain": [
       "   f0_\n",
       "0  306"
      ]
     },
     "execution_count": 14,
     "metadata": {},
     "output_type": "execute_result"
    }
   ],
   "source": [
    "%%bigquery \n",
    "\n",
    "SELECT count(DISTINCT title)\n",
    "FROM `sanfranciscofilmlocation.film_locations.film_locations` "
   ]
  },
  {
   "cell_type": "markdown",
   "metadata": {},
   "source": [
    "the query result tells me that there is film locations for 306 films available in the dataset"
   ]
  },
  {
   "cell_type": "markdown",
   "metadata": {},
   "source": [
    "# 2. TOP 10 films with most numbers of film location in San Francisco\n",
    "\n",
    "now that I know I can look up film locations for 306 films in the dataset,<br>\n",
    "I make the query below to get the list of TOP 10 films with most numbers of film locations out of the 306 films,<br>\n",
    "save the result to a new variable **top_film**"
   ]
  },
  {
   "cell_type": "code",
   "execution_count": 16,
   "metadata": {},
   "outputs": [],
   "source": [
    "%%bigquery top_film\n",
    "\n",
    "SELECT DISTINCT title, COUNT(1) AS count\n",
    "FROM `sanfranciscofilmlocation.film_locations.film_locations`\n",
    "GROUP BY title\n",
    "ORDER BY count DESC LIMIT 10;"
   ]
  },
  {
   "cell_type": "code",
   "execution_count": 18,
   "metadata": {},
   "outputs": [
    {
     "data": {
      "text/html": [
       "<div>\n",
       "<style scoped>\n",
       "    .dataframe tbody tr th:only-of-type {\n",
       "        vertical-align: middle;\n",
       "    }\n",
       "\n",
       "    .dataframe tbody tr th {\n",
       "        vertical-align: top;\n",
       "    }\n",
       "\n",
       "    .dataframe thead th {\n",
       "        text-align: right;\n",
       "    }\n",
       "</style>\n",
       "<table border=\"1\" class=\"dataframe\">\n",
       "  <thead>\n",
       "    <tr style=\"text-align: right;\">\n",
       "      <th></th>\n",
       "      <th>title</th>\n",
       "      <th>count</th>\n",
       "    </tr>\n",
       "  </thead>\n",
       "  <tbody>\n",
       "    <tr>\n",
       "      <th>0</th>\n",
       "      <td>Looking</td>\n",
       "      <td>41</td>\n",
       "    </tr>\n",
       "    <tr>\n",
       "      <th>1</th>\n",
       "      <td>Chance Season 2</td>\n",
       "      <td>30</td>\n",
       "    </tr>\n",
       "    <tr>\n",
       "      <th>2</th>\n",
       "      <td>The Dead Pool</td>\n",
       "      <td>29</td>\n",
       "    </tr>\n",
       "    <tr>\n",
       "      <th>3</th>\n",
       "      <td>Blue Jasmine</td>\n",
       "      <td>28</td>\n",
       "    </tr>\n",
       "    <tr>\n",
       "      <th>4</th>\n",
       "      <td>Etruscan Smile</td>\n",
       "      <td>28</td>\n",
       "    </tr>\n",
       "    <tr>\n",
       "      <th>5</th>\n",
       "      <td>Smile Again, Jenny Lee</td>\n",
       "      <td>25</td>\n",
       "    </tr>\n",
       "    <tr>\n",
       "      <th>6</th>\n",
       "      <td>Murder in the First, Season 1</td>\n",
       "      <td>25</td>\n",
       "    </tr>\n",
       "    <tr>\n",
       "      <th>7</th>\n",
       "      <td>Terminator - Genisys</td>\n",
       "      <td>24</td>\n",
       "    </tr>\n",
       "    <tr>\n",
       "      <th>8</th>\n",
       "      <td>Time After Time</td>\n",
       "      <td>24</td>\n",
       "    </tr>\n",
       "    <tr>\n",
       "      <th>9</th>\n",
       "      <td>San Andreas</td>\n",
       "      <td>24</td>\n",
       "    </tr>\n",
       "  </tbody>\n",
       "</table>\n",
       "</div>"
      ],
      "text/plain": [
       "                           title  count\n",
       "0                        Looking     41\n",
       "1                Chance Season 2     30\n",
       "2                  The Dead Pool     29\n",
       "3                   Blue Jasmine     28\n",
       "4                 Etruscan Smile     28\n",
       "5         Smile Again, Jenny Lee     25\n",
       "6  Murder in the First, Season 1     25\n",
       "7           Terminator - Genisys     24\n",
       "8                Time After Time     24\n",
       "9                    San Andreas     24"
      ]
     },
     "execution_count": 18,
     "metadata": {},
     "output_type": "execute_result"
    }
   ],
   "source": [
    "top_film"
   ]
  },
  {
   "cell_type": "markdown",
   "metadata": {},
   "source": [
    "turns out Looking is the film with most film locations in the dataset with 41 locations<br>\n",
    "<br>\n",
    "now using matplotlib, I visualize the data in a horizontal bar chart"
   ]
  },
  {
   "cell_type": "code",
   "execution_count": 265,
   "metadata": {},
   "outputs": [
    {
     "data": {
      "text/plain": [
       "Text(0.5, 0, 'number of locations')"
      ]
     },
     "execution_count": 265,
     "metadata": {},
     "output_type": "execute_result"
    },
    {
     "data": {
      "image/png": "[encoded data removed]",
      "text/plain": [
       "<Figure size 432x288 with 1 Axes>"
      ]
     },
     "metadata": {
      "needs_background": "light"
     },
     "output_type": "display_data"
    }
   ],
   "source": [
    "bar = top_film.sort_values('count').plot(kind='barh', x='title')\n",
    "bar.set_title('TOP 10 films')\n",
    "bar.set_ylabel(\"Film title\", labelpad=20, weight='bold', size=12)\n",
    "bar.set_xlabel(\"number of locations\", labelpad=20, weight='bold', size=12)"
   ]
  },
  {
   "cell_type": "markdown",
   "metadata": {},
   "source": [
    "at the same time, using the data of list of films, I created WordCloud<br>\n",
    "so I can visually see what are the top films with more locations used in the film in San Francisco<br>\n",
    "and what are the films that can seen as films that represent San Francisco"
   ]
  },
  {
   "cell_type": "code",
   "execution_count": 72,
   "metadata": {},
   "outputs": [],
   "source": [
    "from wordcloud import WordCloud\n",
    "import matplotlib.pyplot as plt"
   ]
  },
  {
   "cell_type": "code",
   "execution_count": 264,
   "metadata": {},
   "outputs": [
    {
     "data": {
      "image/png": "[encoded data removed]",
      "text/plain": [
       "<Figure size 432x288 with 1 Axes>"
      ]
     },
     "metadata": {
      "needs_background": "light"
     },
     "output_type": "display_data"
    }
   ],
   "source": [
    "import numpy as np\n",
    "from collections import Counter\n",
    "\n",
    "freq = Counter(film_location.title)\n",
    "\n",
    "wordcloud = WordCloud().generate_from_frequencies(freq)\n",
    "\n",
    "plt.imshow(wordcloud, interpolation='bilinear')\n",
    "plt.axis(\"off\")\n",
    "plt.show()\n"
   ]
  },
  {
   "cell_type": "markdown",
   "metadata": {},
   "source": [
    "# 3. How many film locations of San Francisco in the dataset?\n",
    "\n",
    "Before looking into most popular film locations used in the list,<br>\n",
    "I wanted to find out how many unique film locations are in the dataset.<br>\n",
    "By saying uniue location, some popular film location must be used as film location for different films<br>\n",
    "therefore I had to make sure I get the number of unique value from the list of film locations.<br>"
   ]
  },
  {
   "cell_type": "code",
   "execution_count": 267,
   "metadata": {},
   "outputs": [
    {
     "data": {
      "text/html": [
       "<div>\n",
       "<style scoped>\n",
       "    .dataframe tbody tr th:only-of-type {\n",
       "        vertical-align: middle;\n",
       "    }\n",
       "\n",
       "    .dataframe tbody tr th {\n",
       "        vertical-align: top;\n",
       "    }\n",
       "\n",
       "    .dataframe thead th {\n",
       "        text-align: right;\n",
       "    }\n",
       "</style>\n",
       "<table border=\"1\" class=\"dataframe\">\n",
       "  <thead>\n",
       "    <tr style=\"text-align: right;\">\n",
       "      <th></th>\n",
       "      <th>f0_</th>\n",
       "    </tr>\n",
       "  </thead>\n",
       "  <tbody>\n",
       "    <tr>\n",
       "      <th>0</th>\n",
       "      <td>1224</td>\n",
       "    </tr>\n",
       "  </tbody>\n",
       "</table>\n",
       "</div>"
      ],
      "text/plain": [
       "    f0_\n",
       "0  1224"
      ]
     },
     "execution_count": 267,
     "metadata": {},
     "output_type": "execute_result"
    }
   ],
   "source": [
    "%%bigquery\n",
    "\n",
    "SELECT count(DISTINCT locations)\n",
    "FROM `sanfranciscofilmlocation.film_locations.film_locations`;"
   ]
  },
  {
   "cell_type": "markdown",
   "metadata": {},
   "source": [
    "As mode for locations field is NULLABLE, meaning there are some rows with no data of location<br>\n",
    "and no specific film location associated with the film shot in San Francisco,<br>\n",
    "one of the 1224 unique value (locations) returned must be value 'NULL'<br>\n",
    "and there is 1223 of unique values meaning 1223 different film locations listed in the dataset."
   ]
  },
  {
   "cell_type": "markdown",
   "metadata": {},
   "source": [
    "Using folium, I tried to graphically visualize how 1223 film locations from the dataset<br>\n",
    "is scattered all over San Francisco"
   ]
  },
  {
   "cell_type": "code",
   "execution_count": null,
   "metadata": {},
   "outputs": [],
   "source": []
  },
  {
   "cell_type": "markdown",
   "metadata": {},
   "source": [
    "# 4. TOP 10 film locations of San Francisco\n",
    "\n",
    "out of 1223 film locations in the list,<br>\n",
    "I run query below to find out the 10 most popular film locations used in San Francisco"
   ]
  },
  {
   "cell_type": "code",
   "execution_count": 269,
   "metadata": {},
   "outputs": [
    {
     "data": {
      "text/html": [
       "<div>\n",
       "<style scoped>\n",
       "    .dataframe tbody tr th:only-of-type {\n",
       "        vertical-align: middle;\n",
       "    }\n",
       "\n",
       "    .dataframe tbody tr th {\n",
       "        vertical-align: top;\n",
       "    }\n",
       "\n",
       "    .dataframe thead th {\n",
       "        text-align: right;\n",
       "    }\n",
       "</style>\n",
       "<table border=\"1\" class=\"dataframe\">\n",
       "  <thead>\n",
       "    <tr style=\"text-align: right;\">\n",
       "      <th></th>\n",
       "      <th>locations</th>\n",
       "      <th>count</th>\n",
       "    </tr>\n",
       "  </thead>\n",
       "  <tbody>\n",
       "    <tr>\n",
       "      <th>0</th>\n",
       "      <td></td>\n",
       "      <td>54</td>\n",
       "    </tr>\n",
       "    <tr>\n",
       "      <th>1</th>\n",
       "      <td>Golden Gate Bridge</td>\n",
       "      <td>27</td>\n",
       "    </tr>\n",
       "    <tr>\n",
       "      <th>2</th>\n",
       "      <td>City Hall</td>\n",
       "      <td>23</td>\n",
       "    </tr>\n",
       "    <tr>\n",
       "      <th>3</th>\n",
       "      <td>Fairmont Hotel (950 Mason Street, Nob Hill)</td>\n",
       "      <td>20</td>\n",
       "    </tr>\n",
       "    <tr>\n",
       "      <th>4</th>\n",
       "      <td>Treasure Island</td>\n",
       "      <td>14</td>\n",
       "    </tr>\n",
       "    <tr>\n",
       "      <th>5</th>\n",
       "      <td>Coit Tower</td>\n",
       "      <td>11</td>\n",
       "    </tr>\n",
       "    <tr>\n",
       "      <th>6</th>\n",
       "      <td>St. Peter &amp; Paul's Church (666 Filbert Street,...</td>\n",
       "      <td>10</td>\n",
       "    </tr>\n",
       "    <tr>\n",
       "      <th>7</th>\n",
       "      <td>Chinatown</td>\n",
       "      <td>10</td>\n",
       "    </tr>\n",
       "    <tr>\n",
       "      <th>8</th>\n",
       "      <td>Palace of Fine Arts (3301 Lyon Street)</td>\n",
       "      <td>9</td>\n",
       "    </tr>\n",
       "    <tr>\n",
       "      <th>9</th>\n",
       "      <td>Bay Bridge</td>\n",
       "      <td>9</td>\n",
       "    </tr>\n",
       "  </tbody>\n",
       "</table>\n",
       "</div>"
      ],
      "text/plain": [
       "                                           locations  count\n",
       "0                                                        54\n",
       "1                                 Golden Gate Bridge     27\n",
       "2                                          City Hall     23\n",
       "3        Fairmont Hotel (950 Mason Street, Nob Hill)     20\n",
       "4                                    Treasure Island     14\n",
       "5                                         Coit Tower     11\n",
       "6  St. Peter & Paul's Church (666 Filbert Street,...     10\n",
       "7                                          Chinatown     10\n",
       "8             Palace of Fine Arts (3301 Lyon Street)      9\n",
       "9                                         Bay Bridge      9"
      ]
     },
     "execution_count": 269,
     "metadata": {},
     "output_type": "execute_result"
    }
   ],
   "source": [
    "%%bigquery\n",
    "\n",
    "SELECT DISTINCT locations, COUNT(1) AS count\n",
    "FROM `sanfranciscofilmlocation.film_locations.film_locations`\n",
    "GROUP BY locations\n",
    "ORDER BY count DESC LIMIT 10;"
   ]
  },
  {
   "cell_type": "markdown",
   "metadata": {},
   "source": [
    "turns out that not specified location appears the most in the locations column of the dataset,<br>\n",
    "in this case I am actually only getting top 9 specified film locations<br>\n",
    "so I make a change to my query as follows"
   ]
  },
  {
   "cell_type": "code",
   "execution_count": 272,
   "metadata": {},
   "outputs": [],
   "source": [
    "%%bigquery top_location\n",
    "\n",
    "SELECT DISTINCT locations, COUNT(1) AS count\n",
    "FROM `sanfranciscofilmlocation.film_locations.film_locations`\n",
    "GROUP BY locations\n",
    "HAVING locations IS NOT NULL AND locations != \"\"\n",
    "ORDER BY count DESC LIMIT 10;"
   ]
  },
  {
   "cell_type": "code",
   "execution_count": 273,
   "metadata": {},
   "outputs": [
    {
     "data": {
      "text/html": [
       "<div>\n",
       "<style scoped>\n",
       "    .dataframe tbody tr th:only-of-type {\n",
       "        vertical-align: middle;\n",
       "    }\n",
       "\n",
       "    .dataframe tbody tr th {\n",
       "        vertical-align: top;\n",
       "    }\n",
       "\n",
       "    .dataframe thead th {\n",
       "        text-align: right;\n",
       "    }\n",
       "</style>\n",
       "<table border=\"1\" class=\"dataframe\">\n",
       "  <thead>\n",
       "    <tr style=\"text-align: right;\">\n",
       "      <th></th>\n",
       "      <th>locations</th>\n",
       "      <th>count</th>\n",
       "    </tr>\n",
       "  </thead>\n",
       "  <tbody>\n",
       "    <tr>\n",
       "      <th>0</th>\n",
       "      <td>Golden Gate Bridge</td>\n",
       "      <td>27</td>\n",
       "    </tr>\n",
       "    <tr>\n",
       "      <th>1</th>\n",
       "      <td>City Hall</td>\n",
       "      <td>23</td>\n",
       "    </tr>\n",
       "    <tr>\n",
       "      <th>2</th>\n",
       "      <td>Fairmont Hotel (950 Mason Street, Nob Hill)</td>\n",
       "      <td>20</td>\n",
       "    </tr>\n",
       "    <tr>\n",
       "      <th>3</th>\n",
       "      <td>Treasure Island</td>\n",
       "      <td>14</td>\n",
       "    </tr>\n",
       "    <tr>\n",
       "      <th>4</th>\n",
       "      <td>Coit Tower</td>\n",
       "      <td>11</td>\n",
       "    </tr>\n",
       "    <tr>\n",
       "      <th>5</th>\n",
       "      <td>Chinatown</td>\n",
       "      <td>10</td>\n",
       "    </tr>\n",
       "    <tr>\n",
       "      <th>6</th>\n",
       "      <td>St. Peter &amp; Paul's Church (666 Filbert Street,...</td>\n",
       "      <td>10</td>\n",
       "    </tr>\n",
       "    <tr>\n",
       "      <th>7</th>\n",
       "      <td>Golden Gate Park</td>\n",
       "      <td>9</td>\n",
       "    </tr>\n",
       "    <tr>\n",
       "      <th>8</th>\n",
       "      <td>Bay Bridge</td>\n",
       "      <td>9</td>\n",
       "    </tr>\n",
       "    <tr>\n",
       "      <th>9</th>\n",
       "      <td>Palace of Fine Arts (3301 Lyon Street)</td>\n",
       "      <td>9</td>\n",
       "    </tr>\n",
       "  </tbody>\n",
       "</table>\n",
       "</div>"
      ],
      "text/plain": [
       "                                           locations  count\n",
       "0                                 Golden Gate Bridge     27\n",
       "1                                          City Hall     23\n",
       "2        Fairmont Hotel (950 Mason Street, Nob Hill)     20\n",
       "3                                    Treasure Island     14\n",
       "4                                         Coit Tower     11\n",
       "5                                          Chinatown     10\n",
       "6  St. Peter & Paul's Church (666 Filbert Street,...     10\n",
       "7                                   Golden Gate Park      9\n",
       "8                                         Bay Bridge      9\n",
       "9             Palace of Fine Arts (3301 Lyon Street)      9"
      ]
     },
     "execution_count": 273,
     "metadata": {},
     "output_type": "execute_result"
    }
   ],
   "source": [
    "top_location"
   ]
  },
  {
   "cell_type": "markdown",
   "metadata": {},
   "source": [
    "now using matplotlib, I visualize the data in a horizontal bar chart"
   ]
  },
  {
   "cell_type": "code",
   "execution_count": 275,
   "metadata": {},
   "outputs": [
    {
     "data": {
      "text/plain": [
       "Text(0.5, 0, 'no of times location used')"
      ]
     },
     "execution_count": 275,
     "metadata": {},
     "output_type": "execute_result"
    },
    {
     "data": {
      "image/png": "[encoded data removed]",
      "text/plain": [
       "<Figure size 432x288 with 1 Axes>"
      ]
     },
     "metadata": {
      "needs_background": "light"
     },
     "output_type": "display_data"
    }
   ],
   "source": [
    "bar = top_location.sort_values('count').plot(kind='barh', x='locations')\n",
    "bar.set_title('TOP 10 film location')\n",
    "bar.set_ylabel(\"Film Location\", labelpad=20, weight='bold', size=12)\n",
    "bar.set_xlabel(\"no of times location used\", labelpad=20, weight='bold', size=12)"
   ]
  },
  {
   "cell_type": "markdown",
   "metadata": {},
   "source": [
    "at the same time, using the data of list of film locations, I created WordCloud\n",
    "so I can visually see what are the top film locations used in San Francisco\n",
    "and what are the top and key locations for films shot in San Francisco"
   ]
  },
  {
   "cell_type": "code",
   "execution_count": 283,
   "metadata": {},
   "outputs": [],
   "source": [
    "%%bigquery top_location_all\n",
    "\n",
    "SELECT locations\n",
    "FROM `sanfranciscofilmlocation.film_locations.film_locations`\n",
    "WHERE locations IS NOT NULL AND locations != \"\";"
   ]
  },
  {
   "cell_type": "code",
   "execution_count": 285,
   "metadata": {},
   "outputs": [
    {
     "data": {
      "image/png": "[encoded data removed]",
      "text/plain": [
       "<Figure size 432x288 with 1 Axes>"
      ]
     },
     "metadata": {
      "needs_background": "light"
     },
     "output_type": "display_data"
    }
   ],
   "source": [
    "locationfreq = Counter(top_location_all.locations)\n",
    "\n",
    "wordcloud = WordCloud().generate_from_frequencies(locationfreq)\n",
    "\n",
    "plt.imshow(wordcloud, interpolation='bilinear')\n",
    "plt.axis(\"off\")\n",
    "plt.show()"
   ]
  },
  {
   "cell_type": "markdown",
   "metadata": {},
   "source": [
    "# 5. How many fun facts of the location in the dataset?\n",
    "\n",
    "some locations in the dataset come with interesting fun facts or trivia about the film or the respective film location<br>\n",
    "For an example, read the fun fact associated with the location used for the film The Birds below"
   ]
  },
  {
   "cell_type": "code",
   "execution_count": 293,
   "metadata": {},
   "outputs": [],
   "source": [
    "%%bigquery birds_fun\n",
    "\n",
    "SELECT title, fun_facts\n",
    "FROM `sanfranciscofilmlocation.film_locations.film_locations` \n",
    "WHERE title = \"The Birds\";"
   ]
  },
  {
   "cell_type": "code",
   "execution_count": 294,
   "metadata": {},
   "outputs": [
    {
     "data": {
      "text/html": [
       "<div>\n",
       "<style scoped>\n",
       "    .dataframe tbody tr th:only-of-type {\n",
       "        vertical-align: middle;\n",
       "    }\n",
       "\n",
       "    .dataframe tbody tr th {\n",
       "        vertical-align: top;\n",
       "    }\n",
       "\n",
       "    .dataframe thead th {\n",
       "        text-align: right;\n",
       "    }\n",
       "</style>\n",
       "<table border=\"1\" class=\"dataframe\">\n",
       "  <thead>\n",
       "    <tr style=\"text-align: right;\">\n",
       "      <th></th>\n",
       "      <th>title</th>\n",
       "      <th>fun_facts</th>\n",
       "    </tr>\n",
       "  </thead>\n",
       "  <tbody>\n",
       "    <tr>\n",
       "      <th>0</th>\n",
       "      <td>The Birds</td>\n",
       "      <td>The pet shop featured in the film does not exi...</td>\n",
       "    </tr>\n",
       "  </tbody>\n",
       "</table>\n",
       "</div>"
      ],
      "text/plain": [
       "       title                                          fun_facts\n",
       "0  The Birds  The pet shop featured in the film does not exi..."
      ]
     },
     "execution_count": 294,
     "metadata": {},
     "output_type": "execute_result"
    }
   ],
   "source": [
    "birds_fun"
   ]
  },
  {
   "cell_type": "markdown",
   "metadata": {},
   "source": [
    "I will extract the fun_facts contents to make the fun fact readable"
   ]
  },
  {
   "cell_type": "code",
   "execution_count": 298,
   "metadata": {},
   "outputs": [
    {
     "name": "stdout",
     "output_type": "stream",
     "text": [
      "[\"The pet shop featured in the film does not exist, but was based on the now-closed Robison's House of Pets formerly located on Maiden Lane.\"]\n"
     ]
    }
   ],
   "source": [
    "birdstext = birds_fun.fun_facts.values\n",
    "print(birdstext)"
   ]
  },
  {
   "cell_type": "markdown",
   "metadata": {},
   "source": [
    "not every single film location in the dataset comes with interesting fun facts like above associated,<br>\n",
    "I make the query to find out how many unique values of fun facts are there<br>\n",
    "in order to find out how many pieces of fun facts are listed in the dataset"
   ]
  },
  {
   "cell_type": "code",
   "execution_count": 299,
   "metadata": {},
   "outputs": [],
   "source": [
    "%%bigquery funfacts\n",
    "\n",
    "SELECT count(DISTINCT fun_facts)\n",
    "FROM `sanfranciscofilmlocation.film_locations.film_locations` \n",
    "WHERE fun_facts IS NOT NULL AND fun_facts != \"\";"
   ]
  },
  {
   "cell_type": "code",
   "execution_count": 300,
   "metadata": {},
   "outputs": [
    {
     "data": {
      "text/html": [
       "<div>\n",
       "<style scoped>\n",
       "    .dataframe tbody tr th:only-of-type {\n",
       "        vertical-align: middle;\n",
       "    }\n",
       "\n",
       "    .dataframe tbody tr th {\n",
       "        vertical-align: top;\n",
       "    }\n",
       "\n",
       "    .dataframe thead th {\n",
       "        text-align: right;\n",
       "    }\n",
       "</style>\n",
       "<table border=\"1\" class=\"dataframe\">\n",
       "  <thead>\n",
       "    <tr style=\"text-align: right;\">\n",
       "      <th></th>\n",
       "      <th>f0_</th>\n",
       "    </tr>\n",
       "  </thead>\n",
       "  <tbody>\n",
       "    <tr>\n",
       "      <th>0</th>\n",
       "      <td>169</td>\n",
       "    </tr>\n",
       "  </tbody>\n",
       "</table>\n",
       "</div>"
      ],
      "text/plain": [
       "   f0_\n",
       "0  169"
      ]
     },
     "execution_count": 300,
     "metadata": {},
     "output_type": "execute_result"
    }
   ],
   "source": [
    "funfacts"
   ]
  },
  {
   "cell_type": "markdown",
   "metadata": {},
   "source": [
    "there are 169 pieces of fun facts about film locations used in San Francisco in the dataset"
   ]
  },
  {
   "cell_type": "markdown",
   "metadata": {},
   "source": [
    "# 6. What are the release year of the films in the dataset?\n",
    "\n",
    "What is the number of years (release year of the film) the dataset has film locations used for?<br>\n",
    "In order to get the range of release year I run the query below"
   ]
  },
  {
   "cell_type": "code",
   "execution_count": 301,
   "metadata": {},
   "outputs": [
    {
     "data": {
      "text/html": [
       "<div>\n",
       "<style scoped>\n",
       "    .dataframe tbody tr th:only-of-type {\n",
       "        vertical-align: middle;\n",
       "    }\n",
       "\n",
       "    .dataframe tbody tr th {\n",
       "        vertical-align: top;\n",
       "    }\n",
       "\n",
       "    .dataframe thead th {\n",
       "        text-align: right;\n",
       "    }\n",
       "</style>\n",
       "<table border=\"1\" class=\"dataframe\">\n",
       "  <thead>\n",
       "    <tr style=\"text-align: right;\">\n",
       "      <th></th>\n",
       "      <th>f0_</th>\n",
       "      <th>f1_</th>\n",
       "    </tr>\n",
       "  </thead>\n",
       "  <tbody>\n",
       "    <tr>\n",
       "      <th>0</th>\n",
       "      <td>1915</td>\n",
       "      <td>2018</td>\n",
       "    </tr>\n",
       "  </tbody>\n",
       "</table>\n",
       "</div>"
      ],
      "text/plain": [
       "    f0_   f1_\n",
       "0  1915  2018"
      ]
     },
     "execution_count": 301,
     "metadata": {},
     "output_type": "execute_result"
    }
   ],
   "source": [
    "%%bigquery\n",
    "    \n",
    "SELECT MIN(release_year), MAX(release_year)\n",
    "FROM `sanfranciscofilmlocation.film_locations.film_locations` "
   ]
  },
  {
   "cell_type": "markdown",
   "metadata": {},
   "source": [
    "the oldest release year in the dataset is 1915 and the latest release year is 2018<br>\n",
    "now I make the query to find out how many films per relase year in the dataset"
   ]
  },
  {
   "cell_type": "code",
   "execution_count": 304,
   "metadata": {},
   "outputs": [],
   "source": [
    "%%bigquery releaseyear\n",
    "    \n",
    "SELECT DISTINCT release_year, COUNT(1) AS count \n",
    "FROM `sanfranciscofilmlocation.film_locations.film_locations` \n",
    "GROUP BY release_year;"
   ]
  },
  {
   "cell_type": "code",
   "execution_count": 306,
   "metadata": {},
   "outputs": [
    {
     "data": {
      "text/html": [
       "<div>\n",
       "<style scoped>\n",
       "    .dataframe tbody tr th:only-of-type {\n",
       "        vertical-align: middle;\n",
       "    }\n",
       "\n",
       "    .dataframe tbody tr th {\n",
       "        vertical-align: top;\n",
       "    }\n",
       "\n",
       "    .dataframe thead th {\n",
       "        text-align: right;\n",
       "    }\n",
       "</style>\n",
       "<table border=\"1\" class=\"dataframe\">\n",
       "  <thead>\n",
       "    <tr style=\"text-align: right;\">\n",
       "      <th></th>\n",
       "      <th>release_year</th>\n",
       "      <th>count</th>\n",
       "    </tr>\n",
       "  </thead>\n",
       "  <tbody>\n",
       "    <tr>\n",
       "      <th>0</th>\n",
       "      <td>1915</td>\n",
       "      <td>2</td>\n",
       "    </tr>\n",
       "    <tr>\n",
       "      <th>1</th>\n",
       "      <td>1924</td>\n",
       "      <td>3</td>\n",
       "    </tr>\n",
       "    <tr>\n",
       "      <th>2</th>\n",
       "      <td>1927</td>\n",
       "      <td>1</td>\n",
       "    </tr>\n",
       "    <tr>\n",
       "      <th>3</th>\n",
       "      <td>1935</td>\n",
       "      <td>1</td>\n",
       "    </tr>\n",
       "    <tr>\n",
       "      <th>4</th>\n",
       "      <td>1936</td>\n",
       "      <td>3</td>\n",
       "    </tr>\n",
       "    <tr>\n",
       "      <th>5</th>\n",
       "      <td>1938</td>\n",
       "      <td>3</td>\n",
       "    </tr>\n",
       "    <tr>\n",
       "      <th>6</th>\n",
       "      <td>1941</td>\n",
       "      <td>4</td>\n",
       "    </tr>\n",
       "    <tr>\n",
       "      <th>7</th>\n",
       "      <td>1942</td>\n",
       "      <td>1</td>\n",
       "    </tr>\n",
       "    <tr>\n",
       "      <th>8</th>\n",
       "      <td>1943</td>\n",
       "      <td>1</td>\n",
       "    </tr>\n",
       "    <tr>\n",
       "      <th>9</th>\n",
       "      <td>1947</td>\n",
       "      <td>8</td>\n",
       "    </tr>\n",
       "    <tr>\n",
       "      <th>10</th>\n",
       "      <td>1948</td>\n",
       "      <td>4</td>\n",
       "    </tr>\n",
       "    <tr>\n",
       "      <th>11</th>\n",
       "      <td>1950</td>\n",
       "      <td>16</td>\n",
       "    </tr>\n",
       "    <tr>\n",
       "      <th>12</th>\n",
       "      <td>1951</td>\n",
       "      <td>4</td>\n",
       "    </tr>\n",
       "    <tr>\n",
       "      <th>13</th>\n",
       "      <td>1952</td>\n",
       "      <td>4</td>\n",
       "    </tr>\n",
       "    <tr>\n",
       "      <th>14</th>\n",
       "      <td>1954</td>\n",
       "      <td>2</td>\n",
       "    </tr>\n",
       "    <tr>\n",
       "      <th>15</th>\n",
       "      <td>1955</td>\n",
       "      <td>3</td>\n",
       "    </tr>\n",
       "    <tr>\n",
       "      <th>16</th>\n",
       "      <td>1956</td>\n",
       "      <td>1</td>\n",
       "    </tr>\n",
       "    <tr>\n",
       "      <th>17</th>\n",
       "      <td>1957</td>\n",
       "      <td>3</td>\n",
       "    </tr>\n",
       "    <tr>\n",
       "      <th>18</th>\n",
       "      <td>1958</td>\n",
       "      <td>23</td>\n",
       "    </tr>\n",
       "    <tr>\n",
       "      <th>19</th>\n",
       "      <td>1959</td>\n",
       "      <td>1</td>\n",
       "    </tr>\n",
       "    <tr>\n",
       "      <th>20</th>\n",
       "      <td>1960</td>\n",
       "      <td>1</td>\n",
       "    </tr>\n",
       "    <tr>\n",
       "      <th>21</th>\n",
       "      <td>1961</td>\n",
       "      <td>6</td>\n",
       "    </tr>\n",
       "    <tr>\n",
       "      <th>22</th>\n",
       "      <td>1962</td>\n",
       "      <td>12</td>\n",
       "    </tr>\n",
       "    <tr>\n",
       "      <th>23</th>\n",
       "      <td>1963</td>\n",
       "      <td>1</td>\n",
       "    </tr>\n",
       "    <tr>\n",
       "      <th>24</th>\n",
       "      <td>1964</td>\n",
       "      <td>2</td>\n",
       "    </tr>\n",
       "    <tr>\n",
       "      <th>25</th>\n",
       "      <td>1967</td>\n",
       "      <td>8</td>\n",
       "    </tr>\n",
       "    <tr>\n",
       "      <th>26</th>\n",
       "      <td>1968</td>\n",
       "      <td>34</td>\n",
       "    </tr>\n",
       "    <tr>\n",
       "      <th>27</th>\n",
       "      <td>1969</td>\n",
       "      <td>3</td>\n",
       "    </tr>\n",
       "    <tr>\n",
       "      <th>28</th>\n",
       "      <td>1970</td>\n",
       "      <td>1</td>\n",
       "    </tr>\n",
       "    <tr>\n",
       "      <th>29</th>\n",
       "      <td>1971</td>\n",
       "      <td>19</td>\n",
       "    </tr>\n",
       "    <tr>\n",
       "      <th>...</th>\n",
       "      <td>...</td>\n",
       "      <td>...</td>\n",
       "    </tr>\n",
       "    <tr>\n",
       "      <th>45</th>\n",
       "      <td>1988</td>\n",
       "      <td>49</td>\n",
       "    </tr>\n",
       "    <tr>\n",
       "      <th>46</th>\n",
       "      <td>1989</td>\n",
       "      <td>5</td>\n",
       "    </tr>\n",
       "    <tr>\n",
       "      <th>47</th>\n",
       "      <td>1990</td>\n",
       "      <td>5</td>\n",
       "    </tr>\n",
       "    <tr>\n",
       "      <th>48</th>\n",
       "      <td>1991</td>\n",
       "      <td>9</td>\n",
       "    </tr>\n",
       "    <tr>\n",
       "      <th>49</th>\n",
       "      <td>1992</td>\n",
       "      <td>29</td>\n",
       "    </tr>\n",
       "    <tr>\n",
       "      <th>50</th>\n",
       "      <td>1993</td>\n",
       "      <td>46</td>\n",
       "    </tr>\n",
       "    <tr>\n",
       "      <th>51</th>\n",
       "      <td>1994</td>\n",
       "      <td>36</td>\n",
       "    </tr>\n",
       "    <tr>\n",
       "      <th>52</th>\n",
       "      <td>1995</td>\n",
       "      <td>33</td>\n",
       "    </tr>\n",
       "    <tr>\n",
       "      <th>53</th>\n",
       "      <td>1996</td>\n",
       "      <td>19</td>\n",
       "    </tr>\n",
       "    <tr>\n",
       "      <th>54</th>\n",
       "      <td>1997</td>\n",
       "      <td>28</td>\n",
       "    </tr>\n",
       "    <tr>\n",
       "      <th>55</th>\n",
       "      <td>1998</td>\n",
       "      <td>17</td>\n",
       "    </tr>\n",
       "    <tr>\n",
       "      <th>56</th>\n",
       "      <td>1999</td>\n",
       "      <td>33</td>\n",
       "    </tr>\n",
       "    <tr>\n",
       "      <th>57</th>\n",
       "      <td>2000</td>\n",
       "      <td>27</td>\n",
       "    </tr>\n",
       "    <tr>\n",
       "      <th>58</th>\n",
       "      <td>2001</td>\n",
       "      <td>37</td>\n",
       "    </tr>\n",
       "    <tr>\n",
       "      <th>59</th>\n",
       "      <td>2002</td>\n",
       "      <td>12</td>\n",
       "    </tr>\n",
       "    <tr>\n",
       "      <th>60</th>\n",
       "      <td>2003</td>\n",
       "      <td>15</td>\n",
       "    </tr>\n",
       "    <tr>\n",
       "      <th>61</th>\n",
       "      <td>2004</td>\n",
       "      <td>18</td>\n",
       "    </tr>\n",
       "    <tr>\n",
       "      <th>62</th>\n",
       "      <td>2005</td>\n",
       "      <td>8</td>\n",
       "    </tr>\n",
       "    <tr>\n",
       "      <th>63</th>\n",
       "      <td>2006</td>\n",
       "      <td>5</td>\n",
       "    </tr>\n",
       "    <tr>\n",
       "      <th>64</th>\n",
       "      <td>2007</td>\n",
       "      <td>1</td>\n",
       "    </tr>\n",
       "    <tr>\n",
       "      <th>65</th>\n",
       "      <td>2008</td>\n",
       "      <td>12</td>\n",
       "    </tr>\n",
       "    <tr>\n",
       "      <th>66</th>\n",
       "      <td>2010</td>\n",
       "      <td>7</td>\n",
       "    </tr>\n",
       "    <tr>\n",
       "      <th>67</th>\n",
       "      <td>2011</td>\n",
       "      <td>10</td>\n",
       "    </tr>\n",
       "    <tr>\n",
       "      <th>68</th>\n",
       "      <td>2012</td>\n",
       "      <td>12</td>\n",
       "    </tr>\n",
       "    <tr>\n",
       "      <th>69</th>\n",
       "      <td>2013</td>\n",
       "      <td>47</td>\n",
       "    </tr>\n",
       "    <tr>\n",
       "      <th>70</th>\n",
       "      <td>2014</td>\n",
       "      <td>113</td>\n",
       "    </tr>\n",
       "    <tr>\n",
       "      <th>71</th>\n",
       "      <td>2015</td>\n",
       "      <td>289</td>\n",
       "    </tr>\n",
       "    <tr>\n",
       "      <th>72</th>\n",
       "      <td>2016</td>\n",
       "      <td>168</td>\n",
       "    </tr>\n",
       "    <tr>\n",
       "      <th>73</th>\n",
       "      <td>2017</td>\n",
       "      <td>117</td>\n",
       "    </tr>\n",
       "    <tr>\n",
       "      <th>74</th>\n",
       "      <td>2018</td>\n",
       "      <td>7</td>\n",
       "    </tr>\n",
       "  </tbody>\n",
       "</table>\n",
       "<p>75 rows × 2 columns</p>\n",
       "</div>"
      ],
      "text/plain": [
       "    release_year  count\n",
       "0           1915      2\n",
       "1           1924      3\n",
       "2           1927      1\n",
       "3           1935      1\n",
       "4           1936      3\n",
       "5           1938      3\n",
       "6           1941      4\n",
       "7           1942      1\n",
       "8           1943      1\n",
       "9           1947      8\n",
       "10          1948      4\n",
       "11          1950     16\n",
       "12          1951      4\n",
       "13          1952      4\n",
       "14          1954      2\n",
       "15          1955      3\n",
       "16          1956      1\n",
       "17          1957      3\n",
       "18          1958     23\n",
       "19          1959      1\n",
       "20          1960      1\n",
       "21          1961      6\n",
       "22          1962     12\n",
       "23          1963      1\n",
       "24          1964      2\n",
       "25          1967      8\n",
       "26          1968     34\n",
       "27          1969      3\n",
       "28          1970      1\n",
       "29          1971     19\n",
       "..           ...    ...\n",
       "45          1988     49\n",
       "46          1989      5\n",
       "47          1990      5\n",
       "48          1991      9\n",
       "49          1992     29\n",
       "50          1993     46\n",
       "51          1994     36\n",
       "52          1995     33\n",
       "53          1996     19\n",
       "54          1997     28\n",
       "55          1998     17\n",
       "56          1999     33\n",
       "57          2000     27\n",
       "58          2001     37\n",
       "59          2002     12\n",
       "60          2003     15\n",
       "61          2004     18\n",
       "62          2005      8\n",
       "63          2006      5\n",
       "64          2007      1\n",
       "65          2008     12\n",
       "66          2010      7\n",
       "67          2011     10\n",
       "68          2012     12\n",
       "69          2013     47\n",
       "70          2014    113\n",
       "71          2015    289\n",
       "72          2016    168\n",
       "73          2017    117\n",
       "74          2018      7\n",
       "\n",
       "[75 rows x 2 columns]"
      ]
     },
     "execution_count": 306,
     "metadata": {},
     "output_type": "execute_result"
    }
   ],
   "source": [
    "releaseyear"
   ]
  },
  {
   "cell_type": "markdown",
   "metadata": {},
   "source": [
    "now using matplotlib, I visualize the data in a horizontal bar chart"
   ]
  },
  {
   "cell_type": "code",
   "execution_count": 309,
   "metadata": {},
   "outputs": [
    {
     "data": {
      "text/plain": [
       "Text(0.5, 0, 'Release year')"
      ]
     },
     "execution_count": 309,
     "metadata": {},
     "output_type": "execute_result"
    },
    {
     "data": {
      "image/png": "[encoded data removed]",
      "text/plain": [
       "<Figure size 432x288 with 1 Axes>"
      ]
     },
     "metadata": {
      "needs_background": "light"
     },
     "output_type": "display_data"
    }
   ],
   "source": [
    "bar = releaseyear.plot(kind='bar', x = 'release_year', y=\"count\")\n",
    "bar.set_title('Number of films shot in San Francisco per year')\n",
    "bar.set_ylabel(\"number of films\", labelpad=20, weight='bold', size=12)\n",
    "bar.set_xlabel(\"Release year\", labelpad=20, weight='bold', size=12)"
   ]
  },
  {
   "cell_type": "markdown",
   "metadata": {},
   "source": [
    "# 7. Who are the TOP 10 directors?\n",
    "\n",
    "Who are the top 10 directors with most San Francisco film locations in the dataset?"
   ]
  },
  {
   "cell_type": "code",
   "execution_count": 310,
   "metadata": {},
   "outputs": [
    {
     "data": {
      "text/html": [
       "<div>\n",
       "<style scoped>\n",
       "    .dataframe tbody tr th:only-of-type {\n",
       "        vertical-align: middle;\n",
       "    }\n",
       "\n",
       "    .dataframe tbody tr th {\n",
       "        vertical-align: top;\n",
       "    }\n",
       "\n",
       "    .dataframe thead th {\n",
       "        text-align: right;\n",
       "    }\n",
       "</style>\n",
       "<table border=\"1\" class=\"dataframe\">\n",
       "  <thead>\n",
       "    <tr style=\"text-align: right;\">\n",
       "      <th></th>\n",
       "      <th>director</th>\n",
       "      <th>count</th>\n",
       "    </tr>\n",
       "  </thead>\n",
       "  <tbody>\n",
       "    <tr>\n",
       "      <th>0</th>\n",
       "      <td>Andrew Haigh</td>\n",
       "      <td>125</td>\n",
       "    </tr>\n",
       "    <tr>\n",
       "      <th>1</th>\n",
       "      <td>Steven Bochcho</td>\n",
       "      <td>58</td>\n",
       "    </tr>\n",
       "    <tr>\n",
       "      <th>2</th>\n",
       "      <td>Philip Kaufman</td>\n",
       "      <td>32</td>\n",
       "    </tr>\n",
       "    <tr>\n",
       "      <th>3</th>\n",
       "      <td>Woody Allen</td>\n",
       "      <td>31</td>\n",
       "    </tr>\n",
       "    <tr>\n",
       "      <th>4</th>\n",
       "      <td>Rozann Dawson</td>\n",
       "      <td>30</td>\n",
       "    </tr>\n",
       "    <tr>\n",
       "      <th>5</th>\n",
       "      <td>Buddy Van Horn</td>\n",
       "      <td>29</td>\n",
       "    </tr>\n",
       "    <tr>\n",
       "      <th>6</th>\n",
       "      <td>Chris Columbus</td>\n",
       "      <td>28</td>\n",
       "    </tr>\n",
       "    <tr>\n",
       "      <th>7</th>\n",
       "      <td>Oded Binnun/ Michel Brezis</td>\n",
       "      <td>28</td>\n",
       "    </tr>\n",
       "    <tr>\n",
       "      <th>8</th>\n",
       "      <td>Gus Van Sant</td>\n",
       "      <td>28</td>\n",
       "    </tr>\n",
       "    <tr>\n",
       "      <th>9</th>\n",
       "      <td>Lenny Abrahamson</td>\n",
       "      <td>28</td>\n",
       "    </tr>\n",
       "  </tbody>\n",
       "</table>\n",
       "</div>"
      ],
      "text/plain": [
       "                     director  count\n",
       "0                Andrew Haigh    125\n",
       "1              Steven Bochcho     58\n",
       "2              Philip Kaufman     32\n",
       "3                 Woody Allen     31\n",
       "4               Rozann Dawson     30\n",
       "5              Buddy Van Horn     29\n",
       "6              Chris Columbus     28\n",
       "7  Oded Binnun/ Michel Brezis     28\n",
       "8                Gus Van Sant     28\n",
       "9            Lenny Abrahamson     28"
      ]
     },
     "execution_count": 310,
     "metadata": {},
     "output_type": "execute_result"
    }
   ],
   "source": [
    "%%bigquery\n",
    "\n",
    "SELECT DISTINCT director, COUNT(1) AS count\n",
    "FROM `sanfranciscofilmlocation.film_locations.film_locations`\n",
    "GROUP BY director\n",
    "ORDER BY count DESC LIMIT 10;"
   ]
  },
  {
   "cell_type": "markdown",
   "metadata": {},
   "source": [
    "# 8. Who are the TOP 10 actors?\n",
    "\n",
    "Who are the top 10 actors with most San Francisco film locations in the dataset?"
   ]
  },
  {
   "cell_type": "code",
   "execution_count": 6,
   "metadata": {},
   "outputs": [
    {
     "name": "stderr",
     "output_type": "stream",
     "text": [
      "UsageError: Cell magic `%%bigquery` not found.\n"
     ]
    }
   ],
   "source": [
    "%%bigquery\n",
    "\n",
    "SELECT DISTINCT actor_1, COUNT(1) AS count\n",
    "FROM `sanfranciscofilmlocation.film_locations.film_locations`\n",
    "GROUP BY actor_1\n",
    "ORDER BY count DESC LIMIT 10;"
   ]
  },
  {
   "cell_type": "code",
   "execution_count": null,
   "metadata": {},
   "outputs": [],
   "source": []
  }
 ],
 "metadata": {
  "celltoolbar": "Raw Cell Format",
  "kernelspec": {
   "display_name": "Python 3",
   "language": "python",
   "name": "python3"
  },
  "language_info": {
   "codemirror_mode": {
    "name": "ipython",
    "version": 3
   },
   "file_extension": ".py",
   "mimetype": "text/x-python",
   "name": "python",
   "nbconvert_exporter": "python",
   "pygments_lexer": "ipython3",
   "version": "3.7.1"
  }
 },
 "nbformat": 4,
 "nbformat_minor": 2
}
